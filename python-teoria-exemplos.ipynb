{
 "cells": [
  {
   "cell_type": "markdown",
   "metadata": {},
   "source": [
    "# Tópicos - Aula - Funções\n",
    "\n",
    "## Funções"
   ]
  },
  {
   "cell_type": "markdown",
   "metadata": {},
   "source": [
    "## Definição de uma função\n"
   ]
  },
  {
   "cell_type": "code",
   "execution_count": 1,
   "metadata": {},
   "outputs": [],
   "source": [
    "# def NomeDaFuncao(argumento1, argumento2, ...)\n",
    "#    instruções\n",
    "#    return saida"
   ]
  },
  {
   "cell_type": "markdown",
   "metadata": {},
   "source": [
    "## Elementos Essenciais:\n",
    "\n",
    "  *  def: define uma função;\n",
    "  * nome: para nossa função;\n",
    "  * argumetnos: da função \"em parêntesis\": são os inputs, e em python, esses elementos são opcionais!\n",
    "  * processamento: feito pela função (instruções)\n",
    "  * return: -- esses são os outputs, e em Python esse elemento é opcional!"
   ]
  },
  {
   "cell_type": "code",
   "execution_count": 2,
   "metadata": {},
   "outputs": [
    {
     "name": "stdout",
     "output_type": "stream",
     "text": [
      "Variável antes de mudar 7\n",
      "Variável dentro da função 13\n",
      "Variável depois de mudar 13\n"
     ]
    }
   ],
   "source": [
    "# Funções e variáveis locais\n",
    "\n",
    "var = 7\n",
    "\n",
    "def mudar_e_imprimir():\n",
    "    global var # declarei como global dentro da função e ela deixa de ser local\n",
    "    var = 13 \n",
    "    print('Variável dentro da função', var)\n",
    "\n",
    "print('Variável antes de mudar', var)\n",
    "mudar_e_imprimir()\n",
    "print('Variável depois de mudar', var)"
   ]
  },
  {
   "cell_type": "code",
   "execution_count": 3,
   "metadata": {},
   "outputs": [
    {
     "name": "stdout",
     "output_type": "stream",
     "text": [
      "Variável antes de mudar 7\n",
      "Variável dentro da função 13\n",
      "Variável depois de mudar 13\n"
     ]
    }
   ],
   "source": [
    "# Função com 1 argumento, mas sem return\n",
    "\n",
    "var = 7\n",
    "novo_valor = 13\n",
    "\n",
    "def mudar_e_imprimir(novo_valor):\n",
    "    global var # declarei como global dentro da função e ela deixa de ser local\n",
    "    var = novo_valor\n",
    "    print('Variável dentro da função', var)\n",
    "\n",
    "print('Variável antes de mudar', var)\n",
    "mudar_e_imprimir(novo_valor)\n",
    "print('Variável depois de mudar', var)"
   ]
  },
  {
   "cell_type": "code",
   "execution_count": 4,
   "metadata": {},
   "outputs": [
    {
     "name": "stdout",
     "output_type": "stream",
     "text": [
      "Variável antes de mudar 7\n",
      "Variável dentro da função, após 1ª alteração 13\n",
      "Variável dentro da função, após 2ª alteração 5\n",
      "Variável depois de mudar 5\n"
     ]
    }
   ],
   "source": [
    "# Função com 2 argumentos, mas sem return\n",
    "\n",
    "var = 7\n",
    "\n",
    "def mudar_e_imprimir(novo_valor_1, novo_valor_2):\n",
    "    global var # declarei como global dentro da função e ela deixa de ser local\n",
    "    var = novo_valor_1\n",
    "    print('Variável dentro da função, após 1ª alteração', var)\n",
    "    var = novo_valor_2\n",
    "    print('Variável dentro da função, após 2ª alteração', var)\n",
    "\n",
    "print('Variável antes de mudar', var)\n",
    "mudar_e_imprimir(13, 5)\n",
    "# mudar_e_imprimir(novo_valor_2=5, novo_valor_1=13) # se eu quiser inverter a ordem da impressão preciso deixar especificado\n",
    "print('Variável depois de mudar', var)"
   ]
  },
  {
   "cell_type": "code",
   "execution_count": 5,
   "metadata": {},
   "outputs": [],
   "source": [
    "# Função com return: Calcular a divisão entre 2 números\n",
    "\n",
    "def divisao(num1, num2):\n",
    "    divisao = num1/num2\n",
    "    return divisao"
   ]
  },
  {
   "cell_type": "code",
   "execution_count": 6,
   "metadata": {},
   "outputs": [
    {
     "data": {
      "text/plain": [
       "2.0"
      ]
     },
     "execution_count": 6,
     "metadata": {},
     "output_type": "execute_result"
    }
   ],
   "source": [
    "divisao(4,2)"
   ]
  },
  {
   "cell_type": "code",
   "execution_count": 7,
   "metadata": {},
   "outputs": [],
   "source": [
    "# Função para retornar se um número é par ou ímpar\n",
    "\n",
    "def par_impar(num):\n",
    "    if num%2 == 0:\n",
    "        return f'O número {num} é par!'\n",
    "    else:\n",
    "        return f'O número {num} é ímpar!'"
   ]
  },
  {
   "cell_type": "code",
   "execution_count": 8,
   "metadata": {},
   "outputs": [
    {
     "data": {
      "text/plain": [
       "'O número 4 é par!'"
      ]
     },
     "execution_count": 8,
     "metadata": {},
     "output_type": "execute_result"
    }
   ],
   "source": [
    "par_impar(4)"
   ]
  },
  {
   "cell_type": "markdown",
   "metadata": {},
   "source": [
    "# Exercicios com função"
   ]
  },
  {
   "cell_type": "markdown",
   "metadata": {},
   "source": [
    "### Exercicio 1\n",
    "\n",
    "Quero padronizar os códigos dos produtos abaixo\n",
    "* Problema: Na base de dados da empresa, todos os produtos são encontrados com 3 letras maiúsculas e 3 números. Sem nenhum espaço antes e nenhum espaço após o código do produto"
   ]
  },
  {
   "cell_type": "code",
   "execution_count": 9,
   "metadata": {},
   "outputs": [],
   "source": [
    "produtos = [\"ABC123\", \"abd012\", \"ABS111\", \"abB222\"]"
   ]
  },
  {
   "cell_type": "code",
   "execution_count": 10,
   "metadata": {},
   "outputs": [
    {
     "name": "stdout",
     "output_type": "stream",
     "text": [
      "ABD012\n"
     ]
    }
   ],
   "source": [
    "# No caso abaixo, se eu tivesse muitas linhas para tratar iria demorar muito\n",
    "\n",
    "texto = \" abd012\"\n",
    "texto = texto.upper() # deixa em letra maiuscula\n",
    "texto = texto.strip() # remove os espações\n",
    "print(texto)"
   ]
  },
  {
   "cell_type": "code",
   "execution_count": 11,
   "metadata": {},
   "outputs": [],
   "source": [
    "def tratar_texto(texto):\n",
    "    texto = texto.upper()\n",
    "    texto = texto.strip()\n",
    "    return texto # retorna o texto tratado"
   ]
  },
  {
   "cell_type": "code",
   "execution_count": 12,
   "metadata": {},
   "outputs": [
    {
     "name": "stdout",
     "output_type": "stream",
     "text": [
      "ABD012\n"
     ]
    }
   ],
   "source": [
    "# Testando a função. testei em um unico exemplo, porém se tivesse que fazer \n",
    "# mais mais itens da lista seria viavel o uso do for com na celula abaixo\n",
    "\n",
    "texto = \" abd012\"\n",
    "\n",
    "texto = tratar_texto(texto)\n",
    "print(texto)"
   ]
  },
  {
   "cell_type": "code",
   "execution_count": 13,
   "metadata": {},
   "outputs": [],
   "source": [
    "# O \"i\" no for da o indice\n",
    "\n",
    "# para cada produto dentro da lista de produtos irei pegar o texto em produtos e também o indice \n",
    "for i, produto in enumerate(produtos):\n",
    "    produtos[i] = tratar_texto(produto) # o valor que vai ficar dentro da lista vai ser o texto do produto tratado"
   ]
  },
  {
   "cell_type": "code",
   "execution_count": 14,
   "metadata": {},
   "outputs": [
    {
     "name": "stdout",
     "output_type": "stream",
     "text": [
      "['ABC123', 'ABD012', 'ABS111', 'ABB222']\n"
     ]
    }
   ],
   "source": [
    "print(produtos)"
   ]
  },
  {
   "cell_type": "markdown",
   "metadata": {},
   "source": [
    "### Exercicio 2\n",
    "\n",
    "Faça um programa que tenha um função chamada área(), que receba as dimenções de um terreno retangular (largura e comprimento) e mostre a área do terreno"
   ]
  },
  {
   "cell_type": "markdown",
   "metadata": {},
   "source": []
  },
  {
   "cell_type": "code",
   "execution_count": 2,
   "metadata": {},
   "outputs": [
    {
     "name": "stdout",
     "output_type": "stream",
     "text": [
      " Controle de Terrenos\n",
      "A área de um terreno 4.0x15.0 é de 60.0m².\n"
     ]
    }
   ],
   "source": [
    "def área(larg, comp):\n",
    "    a = larg * comp\n",
    "    print(f'A área de um terreno {larg}x{comp} é de {a}m².')\n",
    "\n",
    "\n",
    "# programa principal\n",
    "print(\" Controle de Terrenos\")\n",
    "#print(\"-\" * 20)\n",
    "l = float(input('LARGURA (m): '))\n",
    "c = float(input('COMPRIMENTO (m): '))\n",
    "área(l, c)\n",
    "\n"
   ]
  },
  {
   "cell_type": "markdown",
   "metadata": {},
   "source": [
    "# Exercicio 3\n",
    "\n"
   ]
  },
  {
   "cell_type": "markdown",
   "metadata": {},
   "source": [
    "### Exercicio 3.1 - Kilometer Converter Function\n",
    "\n",
    "* Create a function called kilometersToMiles() that has a parameter called kilometers that accepts a distance in kiometers, converts the kilometers to miles, and returns the result. Write a driver program to test the function.\n",
    "   The formula for converting kilometers to miles:\n",
    "    \n",
    "        # Miles = Kilometers x 0.6214\n",
    "        \n",
    "# Example output:\n",
    "   this driver program tests the kilometersToMilles() function.\n",
    "\n",
    "   enter a distance in kilometers: 10 [ENTER]\n",
    "   10.0 kilometers = 6.2 miles\n"
   ]
  },
  {
   "cell_type": "code",
   "execution_count": 1,
   "metadata": {},
   "outputs": [
    {
     "name": "stdout",
     "output_type": "stream",
     "text": [
      "This driver program test the kilometersToMiles() function.\n",
      "\n",
      "\n",
      "5.0 kilometers = 3.1 miles\n"
     ]
    }
   ],
   "source": [
    "def kilometerstoMiles(kilometer):\n",
    "    return kilometer * 0.6214\n",
    "# end method\n",
    "\n",
    "\n",
    "\n",
    "def main():\n",
    "    print(\"This driver program test the kilometersToMiles() function.\\n\")\n",
    "\n",
    "    kilometers = float(input(\"Enter a distance in kilometers: \"))\n",
    "\n",
    "    print()    \n",
    "    print(kilometers, \"kilometers =\", \n",
    "          format(kilometerstoMiles(kilometers), \".1f\"), \"miles\")    \n",
    "# end method\n",
    "\n",
    "\n",
    "# call main method    \n",
    "main()"
   ]
  },
  {
   "cell_type": "markdown",
   "metadata": {},
   "source": [
    "### Exercicio 3.1 - Kilometer Converter Function\n",
    "\n",
    "* A prime number is a number that is only evenly divisible by itself and 1. \n",
    "For example, the number 5 is prime because it can only be evenly divided by 1 and 5. The number 6 is not prime (it can be divided evenly by 1,2,3 and 6).\n",
    " Create a Boolean function named isPrime() which takes an integer as an argument and returns true if the argument is a prime number. If the number is not prime, the function returns false.\n",
    "\n",
    " Write a driver program to test the function.\n",
    "\n",
    "  * Note: Recall that the % operator divides one number by another and returns the remainder of the division. In an expression such as num1 % num2, the % operator will return 0 if num1 is evenly divisible by num2\n",
    "\n",
    "# Exemple outpu:\n",
    "   This driver program tests the isPrime() function.\n",
    "\n",
    "   Enter a number: 7 [ENTER]\n",
    "\n",
    "   7 is a prime number.\n",
    "   \n"
   ]
  },
  {
   "cell_type": "markdown",
   "metadata": {},
   "source": [
    "# Diferença entre Parametros e Argumentos\n",
    "\n",
    "https://www.youtube.com/watch?v=iKV08H87H8c\n"
   ]
  },
  {
   "cell_type": "markdown",
   "metadata": {},
   "source": []
  }
 ],
 "metadata": {
  "kernelspec": {
   "display_name": "Python 3",
   "language": "python",
   "name": "python3"
  },
  "language_info": {
   "codemirror_mode": {
    "name": "ipython",
    "version": 3
   },
   "file_extension": ".py",
   "mimetype": "text/x-python",
   "name": "python",
   "nbconvert_exporter": "python",
   "pygments_lexer": "ipython3",
   "version": "3.12.1"
  }
 },
 "nbformat": 4,
 "nbformat_minor": 2
}
