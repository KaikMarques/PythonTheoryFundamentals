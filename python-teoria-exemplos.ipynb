{
 "cells": [
  {
   "cell_type": "markdown",
   "metadata": {},
   "source": [
    "# Tópicos - Aula - Funções\n",
    "\n",
    "## Funções"
   ]
  },
  {
   "cell_type": "markdown",
   "metadata": {},
   "source": [
    "## Definição de uma função\n"
   ]
  },
  {
   "cell_type": "code",
   "execution_count": 7,
   "metadata": {},
   "outputs": [
    {
     "ename": "SyntaxError",
     "evalue": "invalid syntax (2201373545.py, line 1)",
     "output_type": "error",
     "traceback": [
      "\u001b[1;36m  Cell \u001b[1;32mIn[7], line 1\u001b[1;36m\u001b[0m\n\u001b[1;33m    def NomeDaFuncao(argumento1, argumento2, ...)\u001b[0m\n\u001b[1;37m                                             ^\u001b[0m\n\u001b[1;31mSyntaxError\u001b[0m\u001b[1;31m:\u001b[0m invalid syntax\n"
     ]
    }
   ],
   "source": [
    "# def NomeDaFuncao(argumento1, argumento2, ...)\n",
    "#    instruções\n",
    "#    return saida"
   ]
  },
  {
   "cell_type": "markdown",
   "metadata": {},
   "source": [
    "## Elementos Essenciais:\n",
    "\n",
    "  *  def: define uma função;\n",
    "  * nome: para nossa função;\n",
    "  * argumetnos: da função \"em parêntesis\": são os inputs, e em python, esses elementos são opcionais!\n",
    "  * processamento: feito pela função (instruções)\n",
    "  * return: -- esses são os outputs, e em Python esse elemento é opcional!"
   ]
  },
  {
   "cell_type": "code",
   "execution_count": 8,
   "metadata": {},
   "outputs": [
    {
     "name": "stdout",
     "output_type": "stream",
     "text": [
      "Variável antes de mudar 7\n",
      "Variável dentro da função 13\n",
      "Variável depois de mudar 13\n"
     ]
    }
   ],
   "source": [
    "# Funções e variáveis locais\n",
    "\n",
    "var = 7\n",
    "\n",
    "def mudar_e_imprimir():\n",
    "    global var # declarei como global dentro da função e ela deixa de ser local\n",
    "    var = 13 \n",
    "    print('Variável dentro da função', var)\n",
    "\n",
    "print('Variável antes de mudar', var)\n",
    "mudar_e_imprimir()\n",
    "print('Variável depois de mudar', var)"
   ]
  },
  {
   "cell_type": "code",
   "execution_count": 9,
   "metadata": {},
   "outputs": [
    {
     "name": "stdout",
     "output_type": "stream",
     "text": [
      "Variável antes de mudar 7\n",
      "Variável dentro da função 13\n",
      "Variável depois de mudar 13\n"
     ]
    }
   ],
   "source": [
    "# Função com 1 argumento, mas sem return\n",
    "\n",
    "var = 7\n",
    "novo_valor = 13\n",
    "\n",
    "def mudar_e_imprimir(novo_valor):\n",
    "    global var # declarei como global dentro da função e ela deixa de ser local\n",
    "    var = novo_valor\n",
    "    print('Variável dentro da função', var)\n",
    "\n",
    "print('Variável antes de mudar', var)\n",
    "mudar_e_imprimir(novo_valor)\n",
    "print('Variável depois de mudar', var)"
   ]
  },
  {
   "cell_type": "code",
   "execution_count": 10,
   "metadata": {},
   "outputs": [
    {
     "name": "stdout",
     "output_type": "stream",
     "text": [
      "Variável antes de mudar 7\n",
      "Variável dentro da função, após 1ª alteração 13\n",
      "Variável dentro da função, após 2ª alteração 5\n",
      "Variável depois de mudar 5\n"
     ]
    }
   ],
   "source": [
    "# Função com 2 argumentos, mas sem return\n",
    "\n",
    "var = 7\n",
    "\n",
    "def mudar_e_imprimir(novo_valor_1, novo_valor_2):\n",
    "    global var # declarei como global dentro da função e ela deixa de ser local\n",
    "    var = novo_valor_1\n",
    "    print('Variável dentro da função, após 1ª alteração', var)\n",
    "    var = novo_valor_2\n",
    "    print('Variável dentro da função, após 2ª alteração', var)\n",
    "\n",
    "print('Variável antes de mudar', var)\n",
    "mudar_e_imprimir(13, 5)\n",
    "# mudar_e_imprimir(novo_valor_2=5, novo_valor_1=13) # se eu quiser inverter a ordem da impressão preciso deixar especificado\n",
    "print('Variável depois de mudar', var)"
   ]
  },
  {
   "cell_type": "code",
   "execution_count": 11,
   "metadata": {},
   "outputs": [],
   "source": [
    "# Função com return: Calcular a divisão entre 2 números\n",
    "\n",
    "def divisao(num1, num2):\n",
    "    divisao = num1/num2\n",
    "    return divisao"
   ]
  },
  {
   "cell_type": "code",
   "execution_count": 12,
   "metadata": {},
   "outputs": [
    {
     "data": {
      "text/plain": [
       "2.0"
      ]
     },
     "execution_count": 12,
     "metadata": {},
     "output_type": "execute_result"
    }
   ],
   "source": [
    "divisao(4,2)"
   ]
  },
  {
   "cell_type": "code",
   "execution_count": 13,
   "metadata": {},
   "outputs": [],
   "source": [
    "# Função para retornar se um número é par ou ímpar\n",
    "\n",
    "def par_impar(num):\n",
    "    if num%2 == 0:\n",
    "        return f'O número {num} é par!'\n",
    "    else:\n",
    "        return f'O número {num} é ímpar!'"
   ]
  },
  {
   "cell_type": "code",
   "execution_count": 14,
   "metadata": {},
   "outputs": [
    {
     "data": {
      "text/plain": [
       "'O número 4 é par!'"
      ]
     },
     "execution_count": 14,
     "metadata": {},
     "output_type": "execute_result"
    }
   ],
   "source": [
    "par_impar(4)"
   ]
  },
  {
   "cell_type": "code",
   "execution_count": null,
   "metadata": {},
   "outputs": [],
   "source": []
  }
 ],
 "metadata": {
  "kernelspec": {
   "display_name": "Python 3",
   "language": "python",
   "name": "python3"
  },
  "language_info": {
   "codemirror_mode": {
    "name": "ipython",
    "version": 3
   },
   "file_extension": ".py",
   "mimetype": "text/x-python",
   "name": "python",
   "nbconvert_exporter": "python",
   "pygments_lexer": "ipython3",
   "version": "3.12.1"
  }
 },
 "nbformat": 4,
 "nbformat_minor": 2
}
